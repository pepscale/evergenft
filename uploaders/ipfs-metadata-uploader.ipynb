{
 "cells": [
  {
   "cell_type": "markdown",
   "metadata": {},
   "source": [
    "# Metadata upload to IPFS\n",
    "\n",
    "First make sure you have uploaded all of images to IPFS (`ipfs-image-uploader.ipynb`)\n",
    "`metadata` directory should have links to IPFS (the \"image\" property in JSON)\n",
    "\n",
    "This script uploads metadata of every NFT to IPFS and saves links back to json files. Don't forget to setup pinata.cloud API keys.\n",
    "\n",
    "Then you should use special variation of True NFT contracts with backlink to IPFS metada JSON and IPFS image."
   ]
  },
  {
   "cell_type": "code",
   "execution_count": 1,
   "metadata": {},
   "outputs": [],
   "source": [
    "import json\n",
    "import requests\n",
    "import os"
   ]
  },
  {
   "cell_type": "code",
   "execution_count": 2,
   "metadata": {},
   "outputs": [],
   "source": [
    "# Setup pinata.cloud keys here\n",
    "PINATA_API_KEY=\"f3550647a9e39e630c0b\"\n",
    "PINATA_API_SECRET=\"92e586a014c6d446ad950bd5c79f0edde0f6f6298f22254dd772fd998be10cae\"\n",
    "PINATA_API_JWT=\"eyJhbGciOiJIUzI1NiIsInR5cCI6IkpXVCJ9.eyJ1c2VySW5mb3JtYXRpb24iOnsiaWQiOiI1M2M4MmNkNC1hMTQzLTQ4MWUtYjZkZS1hZDAyYjk3ZGJjYzAiLCJlbWFpbCI6ImFsZXhicy5nYUBnbWFpbC5jb20iLCJlbWFpbF92ZXJpZmllZCI6dHJ1ZSwicGluX3BvbGljeSI6eyJyZWdpb25zIjpbeyJpZCI6IkZSQTEiLCJkZXNpcmVkUmVwbGljYXRpb25Db3VudCI6MX1dLCJ2ZXJzaW9uIjoxfSwibWZhX2VuYWJsZWQiOmZhbHNlfSwiYXV0aGVudGljYXRpb25UeXBlIjoic2NvcGVkS2V5Iiwic2NvcGVkS2V5S2V5IjoiZjM1NTA2NDdhOWUzOWU2MzBjMGIiLCJzY29wZWRLZXlTZWNyZXQiOiI5MmU1ODZhMDE0YzZkNDQ2YWQ5NTBiZDVjNzlmMGVkZGUwZjZmNjI5OGYyMjI1NGRkNzcyZmQ5OThiZTEwY2FlIiwiaWF0IjoxNjM4NDUwNDI5fQ._HIJOY_uDsOJlF3f7pKjHbAcEFI7n3z5rNJbzSPuiRE\""
   ]
  },
  {
   "cell_type": "code",
   "execution_count": 3,
   "metadata": {},
   "outputs": [
    {
     "name": "stdout",
     "output_type": "stream",
     "text": [
      "0\n",
      "QmRGNnwk2LKCLxTpjUYXHRSNCYvd53abLfjma2LwyY3gYt\n",
      "1\n",
      "QmRm1273Y9JdaLBVGCg56WKu62zVm1Th9Ks8fe6iCaTGyC\n",
      "10\n",
      "QmWN8y3J4qrnUkwZjNBgMueWf3ArH9pz34o2uQajuDxnmp\n",
      "11\n",
      "QmbecJMZiS9kJW6UDFU7Y25wYV67pvoT5p57GXYwyZ7U3M\n",
      "12\n",
      "QmXv1qRz54J86czdHvUZuVAQCXetgLUAQfbicZdwfmxbbC\n",
      "13\n",
      "QmdXqiabmk9ekeXd3DVQrnbF56RfXJ3nsEj56LLVfAVpMJ\n",
      "14\n",
      "QmZrg1d6y3FstZUBU9KVTsZEwWkK7o6mVNCniNGzWMH73Y\n",
      "15\n",
      "Qmc9Bd1NHcXKK56Mg7YDnAJ1ToeWZWHHBKHKKd3PRx2Yjx\n",
      "16\n",
      "QmbELQWyhQJ2eN9imcVk11wcDq5zy5tnPA8zmW8UnhCk5x\n",
      "17\n",
      "QmchhtdQ22KYvUr1cYD5gS4iPuFdCqX3io3J1Rtjv7FvnR\n",
      "18\n",
      "QmfZA3hiEq96BTAkJ4G4G2b4pQjfdFibgo7zeG93yc6nxW\n",
      "19\n",
      "QmSf92uP57XH8vSKTDAzeZKeZtXkxBihr5XdcNRToUSAzF\n",
      "2\n",
      "QmV4NanazYAAqzDctkkwKHx2NbdbVAaqS2jom18FcQWsz1\n",
      "20\n",
      "QmQ1kGF9HZjYstv6zpto2baWhuU8jXrqLCKXc6jVFkH4hJ\n",
      "21\n",
      "Qme4G8xaATMDFbQSCRsNAQ2Fdiukgjn2sfEVodiMhM4VDQ\n",
      "22\n",
      "QmdH9Di6d8v7CzRG4kB6QxonWAfF12CZDdKNMShDgXAaJj\n",
      "23\n",
      "QmRt9KFN9cpuaPVbZUpcbZ2is6R5sLadULD1kET8ANu5Ky\n",
      "24\n",
      "QmQBcnGc7xPG56wtaop6rntcDVe8fXTYzcvQoNkB1n9EdM\n",
      "25\n",
      "QmSABpC9w62pKQBWDcANoKovFnBWc26oL5pwRm3YC2Cgcb\n",
      "26\n",
      "QmUujRtX1pDJSdg2Td4F2Cb9knw1L2NWfNkvJGxcC2WsyQ\n",
      "27\n",
      "QmcBUU17e6CB7c8B9ThKtdFjwCtmBjiJYrsu38fDau6Gus\n",
      "28\n",
      "QmcYmer8drMyiro67x7RSNqGrEd5DJYsXeBePpiR7QQmXQ\n",
      "29\n",
      "QmXJcTEeuUYxFWBCDA37SSDFHeqrqvrV4prQRzjRGsyY7t\n",
      "3\n",
      "QmV3GNnyxBFNPBANB5UpReFMhdh1T471PVtBbj8K4ZDQn1\n",
      "30\n",
      "QmUKfZCnB4UDuDT8tMToRkggCMVoz2mBhhrDDCXcqB68y5\n",
      "31\n",
      "QmcsRj6Ztyp2jbFZiTnra2BjuJdR484L1dMB1zXDCwmBty\n",
      "4\n",
      "QmPEbcenbsj9UJMFBmGVNwBqZ9paVnzbkNj1EtJvDr8WAp\n",
      "5\n",
      "QmUhesmBENozxMJD4Fw4oas3nZPZsjbZVEjBVHLnb2yfZK\n",
      "6\n",
      "QmU7AxS5MFNHQ87fYGvHNTTuJGehaxpWMd77k3UmiGQfSV\n",
      "7\n",
      "QmfXojS7HqVVDDjgjyezgsTfmzB5DXdTbfvqqfszyqckL1\n",
      "8\n",
      "QmQbBPbRuTDBtmjz8tVB8mrU8aBzB6yPFCdJRDVhvexsrW\n",
      "9\n",
      "Qmc8scV1q4DBs5n9hiDhL6nguMR1eCbiv1t7yk5jFEH7MV\n"
     ]
    }
   ],
   "source": [
    "# Upload (pin) JSON to IPFS \n",
    "directory = '..\\metadata'\n",
    "pinata_pin_url = \"https://api.pinata.cloud/pinning/pinJSONToIPFS\"\n",
    "\n",
    "metadatas = []\n",
    "\n",
    "for entry in os.scandir(directory):\n",
    "    if entry.name != \"all-traits.json\" and entry.name != \"all-metadatas.json\" and entry.is_file():\n",
    "        nft_id = entry.name.split('.')[0]\n",
    "        print( nft_id )\n",
    "\n",
    "        f = open(entry.path, ) \n",
    "        json_to_upload = json.load(f)\n",
    "        f.close()\n",
    "\n",
    "        upload_response = requests.post(pinata_pin_url, json = json_to_upload, headers={\"Authorization\": \"Bearer \"+PINATA_API_JWT})\n",
    "\n",
    "        print(upload_response.json()[\"IpfsHash\"] )\n",
    "        json_to_upload[\"metadata\"] = \"https://gateway.pinata.cloud/ipfs/\"+upload_response.json()[\"IpfsHash\"] \n",
    "        with open('../metadata/'+nft_id, 'w') as outfile:\n",
    "            json.dump(json_to_upload, outfile, indent=4)\n",
    "        metadatas.append(json_to_upload)"
   ]
  },
  {
   "cell_type": "code",
   "execution_count": 4,
   "metadata": {},
   "outputs": [],
   "source": [
    "# Save metadatas to one big JSON file\n",
    "with open('../metadata/all-metadatas.json', 'w') as outfile:\n",
    "    json.dump(metadatas, outfile, indent=4)"
   ]
  }
 ],
 "metadata": {
  "interpreter": {
   "hash": "b89b5cfaba6639976dc87ff2fec6d58faec662063367e2c229c520fe71072417"
  },
  "kernelspec": {
   "display_name": "Python 3.10.0 64-bit",
   "language": "python",
   "name": "python3"
  },
  "language_info": {
   "codemirror_mode": {
    "name": "ipython",
    "version": 3
   },
   "file_extension": ".py",
   "mimetype": "text/x-python",
   "name": "python",
   "nbconvert_exporter": "python",
   "pygments_lexer": "ipython3",
   "version": "3.10.0"
  },
  "orig_nbformat": 4
 },
 "nbformat": 4,
 "nbformat_minor": 2
}
