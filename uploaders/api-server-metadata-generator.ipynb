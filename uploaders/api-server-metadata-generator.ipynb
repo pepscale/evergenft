{
 "cells": [
  {
   "cell_type": "markdown",
   "metadata": {},
   "source": [
    "# Metadata generator for your API server (opensea-like approach)\n",
    "\n",
    "First make sure you have uploaded all of images to IPFS (`ipfs-image-uploader.ipynb`)\n",
    "\n",
    "`metadata` directory should have links to IPFS (the \"image\" property in JSON)\n",
    "\n",
    "This script generates file containing all of your metadata for your API server."
   ]
  },
  {
   "cell_type": "code",
   "execution_count": null,
   "metadata": {},
   "outputs": [],
   "source": [
    "import json\n",
    "import os"
   ]
  },
  {
   "cell_type": "code",
   "execution_count": null,
   "metadata": {},
   "outputs": [],
   "source": [
    "# Collect all metadata\n",
    "directory = '..\\metadata'\n",
    "\n",
    "metadatas = []\n",
    "\n",
    "# Set here your API server URL\n",
    "api_server_url = \"http://localhost:8080/token/\"\n",
    "\n",
    "for entry in os.scandir(directory):\n",
    "    if entry.name != \"all-traits.json\" and entry.name != \"all-metadatas.json\" and entry.is_file():\n",
    "        nft_id = entry.name.split('.')[0]\n",
    "        print( nft_id )\n",
    "\n",
    "        f = open(entry.path, ) \n",
    "        json_metadata = json.load(f)\n",
    "        f.close()\n",
    "\n",
    "        # Set link to metadata: your API url\n",
    "        json_metadata[\"metadata\"] = api_server_url+nft_id\n",
    "        with open('../metadata/'+nft_id, 'w') as outfile:\n",
    "            json.dump(json_metadata, outfile, indent=4)\n",
    "        metadatas.append(json_metadata)"
   ]
  },
  {
   "cell_type": "code",
   "execution_count": null,
   "metadata": {},
   "outputs": [],
   "source": [
    "# Save metadatas to two big JSON file\n",
    "\n",
    "# For Collection deployer\n",
    "with open('../metadata/all-metadatas.json', 'w') as outfile:\n",
    "    json.dump(metadatas, outfile, indent=4)\n",
    "\n",
    "# Also import this metadata to the API server\n",
    "with open('../api-server/data/all-metadatas.json', 'w') as outfile:\n",
    "    json.dump(metadatas, outfile, indent=4)"
   ]
  }
 ],
 "metadata": {
  "interpreter": {
   "hash": "b89b5cfaba6639976dc87ff2fec6d58faec662063367e2c229c520fe71072417"
  },
  "kernelspec": {
   "display_name": "Python 3.10.0 64-bit",
   "language": "python",
   "name": "python3"
  },
  "language_info": {
   "codemirror_mode": {
    "name": "ipython",
    "version": 3
   },
   "file_extension": ".py",
   "mimetype": "text/x-python",
   "name": "python",
   "nbconvert_exporter": "python",
   "pygments_lexer": "ipython3",
   "version": "3.10.0"
  },
  "orig_nbformat": 4
 },
 "nbformat": 4,
 "nbformat_minor": 2
}
