{
 "cells": [
  {
   "cell_type": "markdown",
   "metadata": {},
   "source": [
    "# Images upload to IPFS\n",
    "\n",
    "Make sure you have generated all images (`images-output` folder) and their traits (`metadata` folder).\n",
    "\n",
    "Setup [pinata.cloud](https://app.pinata.cloud/keys) api keys.\n",
    "\n",
    "This script will upload all images to IPFS and set backlink to them in metadata json files."
   ]
  },
  {
   "cell_type": "code",
   "execution_count": 1,
   "metadata": {},
   "outputs": [],
   "source": [
    "import json\n",
    "import requests\n",
    "import os"
   ]
  },
  {
   "cell_type": "code",
   "execution_count": 2,
   "metadata": {},
   "outputs": [],
   "source": [
    "# Setup pinata.cloud keys here\n",
    "PINATA_API_KEY=\"f3550647a9e39e630c0b\"\n",
    "PINATA_API_SECRET=\"92e586a014c6d446ad950bd5c79f0edde0f6f6298f22254dd772fd998be10cae\"\n",
    "PINATA_API_JWT=\"eyJhbGciOiJIUzI1NiIsInR5cCI6IkpXVCJ9.eyJ1c2VySW5mb3JtYXRpb24iOnsiaWQiOiI1M2M4MmNkNC1hMTQzLTQ4MWUtYjZkZS1hZDAyYjk3ZGJjYzAiLCJlbWFpbCI6ImFsZXhicy5nYUBnbWFpbC5jb20iLCJlbWFpbF92ZXJpZmllZCI6dHJ1ZSwicGluX3BvbGljeSI6eyJyZWdpb25zIjpbeyJpZCI6IkZSQTEiLCJkZXNpcmVkUmVwbGljYXRpb25Db3VudCI6MX1dLCJ2ZXJzaW9uIjoxfSwibWZhX2VuYWJsZWQiOmZhbHNlfSwiYXV0aGVudGljYXRpb25UeXBlIjoic2NvcGVkS2V5Iiwic2NvcGVkS2V5S2V5IjoiZjM1NTA2NDdhOWUzOWU2MzBjMGIiLCJzY29wZWRLZXlTZWNyZXQiOiI5MmU1ODZhMDE0YzZkNDQ2YWQ5NTBiZDVjNzlmMGVkZGUwZjZmNjI5OGYyMjI1NGRkNzcyZmQ5OThiZTEwY2FlIiwiaWF0IjoxNjM4NDUwNDI5fQ._HIJOY_uDsOJlF3f7pKjHbAcEFI7n3z5rNJbzSPuiRE\""
   ]
  },
  {
   "cell_type": "code",
   "execution_count": 3,
   "metadata": {},
   "outputs": [
    {
     "name": "stdout",
     "output_type": "stream",
     "text": [
      "0\n",
      "QmRSTurySshBxQPxpB2M4TQMwAL3YzetstKbMeJkTGBfvS\n",
      "1\n",
      "QmQFVa7YJ1NEgXdzazqHaBAQBZYi7anUpEixfZNcjnbkhK\n",
      "10\n",
      "QmavcFsatD2ieRKrStQUTydVbrYb5csCWankwhEqLSiK1J\n",
      "11\n",
      "QmbAVr3JfoaNvWRLkv8ERrVEWTv7wDmi9R4zTf67Lmj1d7\n",
      "12\n",
      "QmYgvLmBebLUXqQhRQ93ux9CigNyaDA4ciZzjM7NsDAxkJ\n",
      "13\n",
      "QmRTRNDRumtGLFmKw7MQv9nDvN8KxKxWkBicQEVkrMkp27\n",
      "14\n",
      "QmTSE93PV21Xx4NCB35heV2fKG9ipQQd9vML7gdta9E9Az\n",
      "15\n",
      "QmePBzbYdngw6hebvXuWUuKhRxYRH4c9fZdSwdju1rA7gs\n",
      "16\n",
      "QmWzrnr2kYyCddsVqoftmBnmWZ1hbY1eBzoeJcN9ApHqTh\n",
      "17\n",
      "QmSAYVeHoCgzKBEhRKgvV4axPta8GJ4UFNfm6SWJBgmGEj\n",
      "18\n",
      "QmWRYrnzaxxE91GbUsSiia2DSoFoyJR64EG5ymeFT5DXYT\n",
      "19\n",
      "QmWN5XhWX6v5BnbXTomYTQiqPFZpwm9C4tBohm9zrFevu9\n",
      "2\n",
      "QmfSgYbrGyCDK2k4sHE1mWakckaahzn7iKuzsCojBSfJC8\n",
      "20\n",
      "QmRW5mMAznBZEXVDhxDpXcHj9SRYP1tZs62BgzHGy8SKhC\n",
      "21\n",
      "QmatxyVzT6NEipqDTmttDaiHGL5GpucCCM4xgHQv4qjNiz\n",
      "22\n",
      "QmYfLmzseJmx5RANdqMQxY5Wm1qo6iU74S6yCd5p6qkAis\n",
      "23\n",
      "QmadCPXXWrQJzEZcmbQFQSCyUqY6DqMg77NpWfzpCCsrmE\n",
      "24\n",
      "QmahEVrK3mZx6y6GvNTaZyDonA88ubwQ3GTseAudSY15dc\n",
      "25\n",
      "QmXFeRXUenTAkV9mRdFfx8ERmx5fHMWiCo478rAfSg5pgK\n",
      "26\n",
      "QmTsYEPsnCbAG724wURBMnSDvRayhTs5ZDKnqfPuMEuvva\n",
      "27\n",
      "QmY5pP8rXHZR7p5QsoBpxqHkcD33w4hac8CSDDPVFviZec\n",
      "28\n",
      "Qmf6geiidGzhMCw9uDWLzW4CbsXYbdPb3PLVnKaukqkTkZ\n",
      "29\n",
      "QmeF79nKhRMnWPp2Hus7GKYCSVFNRzsZmGyLG1smBxZ9ov\n",
      "3\n",
      "QmNTb2gFHRGFoukK62kygAws9Uta8FsdwJ2ShiQBLiLWTm\n",
      "30\n",
      "Qme1PuCAH4ux6wNiKEoPKY8EFRwbk3TomPLWYq5vmSH9nL\n",
      "31\n",
      "QmSBmr7pS42p5r7qz5Y1fwTHJrVwnrtZ52SyJRPyvESSjC\n",
      "4\n",
      "QmQNHFFrZsYR7NiHZNaUEqoPUB9vDdEsJKCq7A7qyLj1Q3\n",
      "5\n",
      "QmecGhocg4Z7MwSkeffdPqMNiSi5j4WFmqvLoDDdVeXcM2\n",
      "6\n",
      "QmSQp23i8y4bmw3S7jMncLhqNLRFPvw2WcSTg5fofMeMX6\n",
      "7\n",
      "Qmdve2Z4Y5oxme3Aw9waUbaENYQcryHVupsYWmrMSD1wtM\n",
      "8\n",
      "QmZWmXZCCyKDDYNUeEccbpuqWgS8Wv8P4yvTVHoF8UyDDd\n",
      "9\n",
      "QmWGfiLJWxyXjLJzzBZ47XfbxvxULf9K1r4pmteL2vfeFr\n"
     ]
    }
   ],
   "source": [
    "# Upload (pin) all images to IPFS \n",
    "directory = '..\\images-output'\n",
    "pinata_pin_url = \"https://api.pinata.cloud/pinning/pinFileToIPFS\"\n",
    "files_hashes = {}\n",
    "for entry in os.scandir(directory):\n",
    "    if entry.path.endswith(\".png\") and entry.is_file():\n",
    "        image_id = entry.name.split('.')[0]\n",
    "        print( image_id )\n",
    "        file_to_upload = open(entry.path, \"rb\")\n",
    "        upload_response = requests.post(pinata_pin_url, files = {\"file\": file_to_upload}, headers={\"Authorization\": \"Bearer \"+PINATA_API_JWT})\n",
    "        print(upload_response.json()[\"IpfsHash\"] )\n",
    "        files_hashes[image_id] = upload_response.json()[\"IpfsHash\"]"
   ]
  },
  {
   "cell_type": "code",
   "execution_count": 4,
   "metadata": {},
   "outputs": [
    {
     "name": "stdout",
     "output_type": "stream",
     "text": [
      "0 QmRSTurySshBxQPxpB2M4TQMwAL3YzetstKbMeJkTGBfvS\n",
      "1 QmQFVa7YJ1NEgXdzazqHaBAQBZYi7anUpEixfZNcjnbkhK\n",
      "10 QmavcFsatD2ieRKrStQUTydVbrYb5csCWankwhEqLSiK1J\n",
      "11 QmbAVr3JfoaNvWRLkv8ERrVEWTv7wDmi9R4zTf67Lmj1d7\n",
      "12 QmYgvLmBebLUXqQhRQ93ux9CigNyaDA4ciZzjM7NsDAxkJ\n",
      "13 QmRTRNDRumtGLFmKw7MQv9nDvN8KxKxWkBicQEVkrMkp27\n",
      "14 QmTSE93PV21Xx4NCB35heV2fKG9ipQQd9vML7gdta9E9Az\n",
      "15 QmePBzbYdngw6hebvXuWUuKhRxYRH4c9fZdSwdju1rA7gs\n",
      "16 QmWzrnr2kYyCddsVqoftmBnmWZ1hbY1eBzoeJcN9ApHqTh\n",
      "17 QmSAYVeHoCgzKBEhRKgvV4axPta8GJ4UFNfm6SWJBgmGEj\n",
      "18 QmWRYrnzaxxE91GbUsSiia2DSoFoyJR64EG5ymeFT5DXYT\n",
      "19 QmWN5XhWX6v5BnbXTomYTQiqPFZpwm9C4tBohm9zrFevu9\n",
      "2 QmfSgYbrGyCDK2k4sHE1mWakckaahzn7iKuzsCojBSfJC8\n",
      "20 QmRW5mMAznBZEXVDhxDpXcHj9SRYP1tZs62BgzHGy8SKhC\n",
      "21 QmatxyVzT6NEipqDTmttDaiHGL5GpucCCM4xgHQv4qjNiz\n",
      "22 QmYfLmzseJmx5RANdqMQxY5Wm1qo6iU74S6yCd5p6qkAis\n",
      "23 QmadCPXXWrQJzEZcmbQFQSCyUqY6DqMg77NpWfzpCCsrmE\n",
      "24 QmahEVrK3mZx6y6GvNTaZyDonA88ubwQ3GTseAudSY15dc\n",
      "25 QmXFeRXUenTAkV9mRdFfx8ERmx5fHMWiCo478rAfSg5pgK\n",
      "26 QmTsYEPsnCbAG724wURBMnSDvRayhTs5ZDKnqfPuMEuvva\n",
      "27 QmY5pP8rXHZR7p5QsoBpxqHkcD33w4hac8CSDDPVFviZec\n",
      "28 Qmf6geiidGzhMCw9uDWLzW4CbsXYbdPb3PLVnKaukqkTkZ\n",
      "29 QmeF79nKhRMnWPp2Hus7GKYCSVFNRzsZmGyLG1smBxZ9ov\n",
      "3 QmNTb2gFHRGFoukK62kygAws9Uta8FsdwJ2ShiQBLiLWTm\n",
      "30 Qme1PuCAH4ux6wNiKEoPKY8EFRwbk3TomPLWYq5vmSH9nL\n",
      "31 QmSBmr7pS42p5r7qz5Y1fwTHJrVwnrtZ52SyJRPyvESSjC\n",
      "4 QmQNHFFrZsYR7NiHZNaUEqoPUB9vDdEsJKCq7A7qyLj1Q3\n",
      "5 QmecGhocg4Z7MwSkeffdPqMNiSi5j4WFmqvLoDDdVeXcM2\n",
      "6 QmSQp23i8y4bmw3S7jMncLhqNLRFPvw2WcSTg5fofMeMX6\n",
      "7 Qmdve2Z4Y5oxme3Aw9waUbaENYQcryHVupsYWmrMSD1wtM\n",
      "8 QmZWmXZCCyKDDYNUeEccbpuqWgS8Wv8P4yvTVHoF8UyDDd\n",
      "9 QmWGfiLJWxyXjLJzzBZ47XfbxvxULf9K1r4pmteL2vfeFr\n"
     ]
    }
   ],
   "source": [
    "# After upload add all IPFS hashes to metadata\n",
    "\n",
    "for id, hash in files_hashes.items():\n",
    "    print(id, hash)\n",
    "    f = open('../metadata/'+id, ) \n",
    "    data = json.load(f)\n",
    "    data[\"image\"] = \"https://gateway.pinata.cloud/ipfs/\"+hash\n",
    "    f.close()\n",
    "    with open('../metadata/'+id, 'w') as outfile:\n",
    "        json.dump(data, outfile, indent=4)"
   ]
  }
 ],
 "metadata": {
  "interpreter": {
   "hash": "b89b5cfaba6639976dc87ff2fec6d58faec662063367e2c229c520fe71072417"
  },
  "kernelspec": {
   "display_name": "Python 3.10.0 64-bit",
   "language": "python",
   "name": "python3"
  },
  "language_info": {
   "codemirror_mode": {
    "name": "ipython",
    "version": 3
   },
   "file_extension": ".py",
   "mimetype": "text/x-python",
   "name": "python",
   "nbconvert_exporter": "python",
   "pygments_lexer": "ipython3",
   "version": "3.10.0"
  },
  "orig_nbformat": 4
 },
 "nbformat": 4,
 "nbformat_minor": 2
}
